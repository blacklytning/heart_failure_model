{
 "cells": [
  {
   "cell_type": "code",
   "execution_count": 1,
   "id": "9d62392f",
   "metadata": {},
   "outputs": [],
   "source": [
    "import pandas as pd\n",
    "import seaborn as sns\n",
    "import numpy as np\n",
    "import matplotlib.pyplot as plt\n",
    "from sklearn.preprocessing import RobustScaler\n",
    "from sklearn.metrics import f1_score, recall_score, precision_score, confusion_matrix\n",
    "from sklearn.linear_model import LogisticRegression\n",
    "from sklearn.model_selection import train_test_split\n",
    "from sklearn.decomposition import PCA\n",
    "from imblearn.over_sampling import SMOTE\n",
    "from sklearn.svm import SVC"
   ]
  },
  {
   "cell_type": "code",
   "execution_count": 2,
   "id": "d8f7e9e8",
   "metadata": {},
   "outputs": [],
   "source": [
    "train = pd.read_csv(\"data/reduced_train.csv\")\n",
    "test = pd.read_csv(\"data/reduced_test.csv\")"
   ]
  },
  {
   "cell_type": "code",
   "execution_count": 3,
   "id": "0f51d21c",
   "metadata": {},
   "outputs": [],
   "source": [
    "X = train.drop('HeartDiseaseorAttack', axis = 1)\n",
    "y = train['HeartDiseaseorAttack']"
   ]
  },
  {
   "cell_type": "code",
   "execution_count": 4,
   "id": "35333baf",
   "metadata": {},
   "outputs": [],
   "source": [
    "X = X.drop_duplicates()\n",
    "y = y.loc[X.index]"
   ]
  },
  {
   "cell_type": "code",
   "execution_count": 5,
   "id": "19e305ee",
   "metadata": {},
   "outputs": [],
   "source": [
    "X_test = test.drop('HeartDiseaseorAttack', axis = 1)\n",
    "y_test = test['HeartDiseaseorAttack']"
   ]
  },
  {
   "cell_type": "code",
   "execution_count": 6,
   "id": "6da2b8ca",
   "metadata": {},
   "outputs": [],
   "source": [
    "X_test = X_test.drop_duplicates()\n",
    "y_test = y_test.loc[X_test.index]"
   ]
  },
  {
   "cell_type": "code",
   "execution_count": 7,
   "id": "74c3f50b",
   "metadata": {},
   "outputs": [],
   "source": [
    "transformer = SMOTE(sampling_strategy = 1)\n",
    "X_under, y_under = transformer.fit_resample(X, y)"
   ]
  },
  {
   "cell_type": "code",
   "execution_count": 8,
   "id": "bf79ee26",
   "metadata": {},
   "outputs": [],
   "source": [
    "X_train, X_valid, y_train, y_valid = train_test_split(X_under, y_under, test_size = 0.1, stratify = y_under)"
   ]
  },
  {
   "cell_type": "code",
   "execution_count": 9,
   "id": "201ba4cc",
   "metadata": {},
   "outputs": [
    {
     "data": {
      "text/plain": [
       "HeartDiseaseorAttack\n",
       "0    109723\n",
       "1    109723\n",
       "Name: count, dtype: int64"
      ]
     },
     "execution_count": 9,
     "metadata": {},
     "output_type": "execute_result"
    }
   ],
   "source": [
    "y_under.value_counts()"
   ]
  },
  {
   "cell_type": "code",
   "execution_count": 10,
   "id": "992835f6",
   "metadata": {},
   "outputs": [],
   "source": [
    "#Applying Robust Scaler\n",
    "transformer = RobustScaler()\n",
    "Xscaled_train = transformer.fit_transform(X_train)\n",
    "Xscaled_valid = transformer.transform(X_valid)\n",
    "Xscaled_test = transformer.transform(X_test)"
   ]
  },
  {
   "cell_type": "code",
   "execution_count": 11,
   "id": "cc81cbab",
   "metadata": {},
   "outputs": [],
   "source": [
    "#converting to dataframes\n",
    "Xscaled_train = pd.DataFrame(data = Xscaled_train, columns = X.columns)\n",
    "Xscaled_valid = pd.DataFrame(data = Xscaled_valid, columns = X.columns)\n",
    "Xscaled_test = pd.DataFrame(data = Xscaled_test, columns = X.columns)"
   ]
  },
  {
   "cell_type": "code",
   "execution_count": 12,
   "id": "d46391dd",
   "metadata": {},
   "outputs": [],
   "source": [
    "#Apply pca\n",
    "pca = PCA(n_components = 7)\n",
    "Xpca_train = pca.fit_transform(Xscaled_train)\n",
    "Xpca_valid = pca.transform(Xscaled_valid)\n",
    "Xpca_test = pca.transform(Xscaled_test)"
   ]
  },
  {
   "cell_type": "markdown",
   "id": "48636eee",
   "metadata": {},
   "source": [
    "- PCA: Doesn't improve performance whatsoever"
   ]
  },
  {
   "cell_type": "code",
   "execution_count": 27,
   "id": "04720dbf",
   "metadata": {},
   "outputs": [],
   "source": [
    "def evaluator(clf):\n",
    "    clf.fit(X_train, y_train)\n",
    "    raw = clf.predict_proba(X_test)[:, 1]\n",
    "    threshold = 0.3\n",
    "    pred = (raw >= threshold).astype(int)\n",
    "    f1 = f1_score(y_test, pred)\n",
    "    recall = recall_score(y_test, pred)\n",
    "    precision = precision_score(y_test, pred)\n",
    "    temp = pd.Series(data = [f1, recall, precision], index = ['f1', 'recall', 'precision'])\n",
    "    \n",
    "    cm = confusion_matrix(y_test, pred)\n",
    "    sns.heatmap(cm, annot=True, fmt='d', cmap='Blues', cbar=False)\n",
    "    plt.title(f'Predictions on test set')\n",
    "    plt.xlabel('Predicted')\n",
    "    plt.ylabel('True')\n",
    "    print(temp)\n",
    "    return pred, y_test"
   ]
  },
  {
   "cell_type": "markdown",
   "id": "554cb455",
   "metadata": {},
   "source": [
    "svc = SVC()\n",
    "evaluator(svc)"
   ]
  },
  {
   "cell_type": "code",
   "execution_count": 28,
   "id": "b396e0d8",
   "metadata": {},
   "outputs": [],
   "source": [
    "from lightgbm import LGBMClassifier"
   ]
  },
  {
   "cell_type": "code",
   "execution_count": 29,
   "id": "7ced0b18",
   "metadata": {},
   "outputs": [
    {
     "name": "stdout",
     "output_type": "stream",
     "text": [
      "f1           0.325637\n",
      "recall       0.870219\n",
      "precision    0.200293\n",
      "dtype: float64\n"
     ]
    },
    {
     "data": {
      "image/png": "[encoded data removed]",
      "text/plain": [
       "<Figure size 640x480 with 1 Axes>"
      ]
     },
     "metadata": {},
     "output_type": "display_data"
    }
   ],
   "source": [
    "lg = LGBMClassifier(n_estimators = 1000, boosting_type = \"goss\", class_weight = 'balanced')\n",
    "p,t = evaluator(lg)"
   ]
  },
  {
   "cell_type": "markdown",
   "id": "0b3f9928",
   "metadata": {},
   "source": [
    "## Error Analysis"
   ]
  },
  {
   "cell_type": "code",
   "execution_count": 359,
   "id": "391781f3",
   "metadata": {},
   "outputs": [],
   "source": [
    "p = pd.Series(data = p, index = t.index)"
   ]
  },
  {
   "cell_type": "code",
   "execution_count": 366,
   "id": "1cd6dcbe",
   "metadata": {},
   "outputs": [],
   "source": [
    "#Gather indices of false positives\n",
    "FP = []\n",
    "for i in t.index:\n",
    "    if((t[i] == 0) & (p[i] == 1)):\n",
    "        FP.append(i)"
   ]
  },
  {
   "cell_type": "code",
   "execution_count": 368,
   "id": "04d63703",
   "metadata": {},
   "outputs": [],
   "source": [
    "#Gather indices of false positives\n",
    "TP = []\n",
    "for i in t.index:\n",
    "    if((t[i] == 1) & (p[i] == 1)):\n",
    "        TP.append(i)"
   ]
  },
  {
   "cell_type": "code",
   "execution_count": 369,
   "id": "4e140d4c",
   "metadata": {},
   "outputs": [
    {
     "data": {
      "text/plain": [
       "1882"
      ]
     },
     "execution_count": 369,
     "metadata": {},
     "output_type": "execute_result"
    }
   ],
   "source": [
    "len(TP)"
   ]
  },
  {
   "cell_type": "code",
   "execution_count": 370,
   "id": "6026d03e",
   "metadata": {},
   "outputs": [
    {
     "data": {
      "text/plain": [
       "6417"
      ]
     },
     "execution_count": 370,
     "metadata": {},
     "output_type": "execute_result"
    }
   ],
   "source": [
    "len(FP)"
   ]
  },
  {
   "cell_type": "code",
   "execution_count": 371,
   "id": "e110b7eb",
   "metadata": {},
   "outputs": [],
   "source": [
    "fp = X_test.loc[FP]\n",
    "tp = X_test.loc[TP]"
   ]
  },
  {
   "cell_type": "code",
   "execution_count": 376,
   "id": "607f0287",
   "metadata": {},
   "outputs": [
    {
     "data": {
      "text/plain": [
       "['BMI', 'Diabetes', 'GenHlth', 'MentHlth', 'PhysHlth', 'Age']"
      ]
     },
     "execution_count": 376,
     "metadata": {},
     "output_type": "execute_result"
    }
   ],
   "source": [
    "binary_col = [col for col in X_test.columns if X_test[col].nunique() == 2]\n",
    "other_col = [col for col in X_test.columns if col not in binary_col]"
   ]
  },
  {
   "cell_type": "code",
   "execution_count": 378,
   "id": "1be9f7be",
   "metadata": {},
   "outputs": [
    {
     "name": "stdout",
     "output_type": "stream",
     "text": [
      "For False Positives: \n",
      "HighBP percentage for 1s out of total: 70.16\n",
      "HighChol percentage for 1s out of total: 60.39\n",
      "Smoker percentage for 1s out of total: 52.81\n",
      "Stroke percentage for 1s out of total: 8.27\n",
      "PhysActivity percentage for 1s out of total: 52.89\n",
      "DiffWalk percentage for 1s out of total: 34.95\n",
      "BMI average: 29.89\n",
      "Diabetes average: 0.67\n",
      "GenHlth average: 3.23\n",
      "MentHlth average: 5.04\n",
      "PhysHlth average: 9.07\n",
      "Age average: 10.12\n"
     ]
    }
   ],
   "source": [
    "print(\"For False Positives: \")\n",
    "for col in binary_col:\n",
    "    print(f\"{col} percentage for 1s out of total: {round(sum(fp[col]) * 100 / len(fp[col]), 2)}\")\n",
    "for col in other_col:\n",
    "    print(f\"{col} average: {round(np.mean(fp[col]), 2)}\")"
   ]
  },
  {
   "cell_type": "code",
   "execution_count": 379,
   "id": "487bd37d",
   "metadata": {},
   "outputs": [
    {
     "name": "stdout",
     "output_type": "stream",
     "text": [
      "For True Positives: \n",
      "HighBP percentage for 1s out of total: 79.65\n",
      "HighChol percentage for 1s out of total: 74.18\n",
      "Smoker percentage for 1s out of total: 63.97\n",
      "Stroke percentage for 1s out of total: 19.34\n",
      "PhysActivity percentage for 1s out of total: 57.12\n",
      "DiffWalk percentage for 1s out of total: 50.0\n",
      "BMI average: 29.73\n",
      "Diabetes average: 0.8\n",
      "GenHlth average: 3.61\n",
      "MentHlth average: 5.28\n",
      "PhysHlth average: 11.01\n",
      "Age average: 10.53\n"
     ]
    }
   ],
   "source": [
    "print(\"For True Positives: \")\n",
    "for col in binary_col:\n",
    "    print(f\"{col} percentage for 1s out of total: {round(sum(tp[col]) * 100 / len(tp[col]), 2)}\")\n",
    "for col in other_col:\n",
    "    print(f\"{col} average: {round(np.mean(tp[col]), 2)}\")"
   ]
  },
  {
   "cell_type": "markdown",
   "id": "d407c45f",
   "metadata": {},
   "source": [
    "- Distribution of false positive and true positives is very similar i.e why model is struggling to catch a difference and therfore the low precision and f1 scores"
   ]
  },
  {
   "cell_type": "markdown",
   "id": "1f1b585c",
   "metadata": {},
   "source": [
    "## Pickling the final model"
   ]
  },
  {
   "cell_type": "code",
   "execution_count": 30,
   "id": "1a39fa96",
   "metadata": {},
   "outputs": [],
   "source": [
    "import pickle\n",
    "lg2 = LGBMClassifier(n_estimators = 1000, boosting_type = \"goss\", class_weight = 'balanced')"
   ]
  },
  {
   "cell_type": "code",
   "execution_count": 32,
   "id": "7a728ba4",
   "metadata": {},
   "outputs": [],
   "source": [
    "pickle.dump(lg, open(\"lgbmclf.pkl\", \"wb\"))"
   ]
  }
 ],
 "metadata": {
  "kernelspec": {
   "display_name": "Python 3 (ipykernel)",
   "language": "python",
   "name": "python3"
  },
  "language_info": {
   "codemirror_mode": {
    "name": "ipython",
    "version": 3
   },
   "file_extension": ".py",
   "mimetype": "text/x-python",
   "name": "python",
   "nbconvert_exporter": "python",
   "pygments_lexer": "ipython3",
   "version": "3.9.18"
  }
 },
 "nbformat": 4,
 "nbformat_minor": 5
}
