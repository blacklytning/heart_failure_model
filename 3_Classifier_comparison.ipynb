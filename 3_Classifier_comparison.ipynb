{
 "cells": [
  {
   "cell_type": "code",
   "execution_count": 1,
   "id": "8eae62ac",
   "metadata": {},
   "outputs": [],
   "source": [
    "import pandas as pd\n",
    "from sklearn.metrics import precision_score, recall_score, f1_score\n",
    "from sklearn.model_selection import train_test_split\n",
    "from imblearn.under_sampling import RandomUnderSampler"
   ]
  },
  {
   "cell_type": "code",
   "execution_count": 2,
   "id": "9031724a",
   "metadata": {},
   "outputs": [],
   "source": [
    "from sklearn.tree import DecisionTreeClassifier\n",
    "from sklearn.linear_model import LogisticRegression\n",
    "from sklearn.ensemble import RandomForestClassifier, ExtraTreesClassifier, GradientBoostingClassifier\n",
    "from sklearn.ensemble import HistGradientBoostingClassifier, AdaBoostClassifier\n",
    "from sklearn.svm import SVC\n",
    "from sklearn.neighbors import KNeighborsClassifier\n",
    "from sklearn.naive_bayes import GaussianNB\n",
    "\n",
    "from lightgbm import LGBMClassifier\n",
    "from xgboost import XGBClassifier\n",
    "from catboost import CatBoostClassifier\n",
    "\n",
    "from imblearn.ensemble import RUSBoostClassifier, EasyEnsembleClassifier, BalancedBaggingClassifier\n",
    "from imblearn.ensemble import BalancedRandomForestClassifier"
   ]
  },
  {
   "cell_type": "code",
   "execution_count": 3,
   "id": "a82adb1b",
   "metadata": {},
   "outputs": [],
   "source": [
    "clfs1 = {\n",
    "    'dt' : DecisionTreeClassifier(class_weight = 'balanced'),\n",
    "    'log': LogisticRegression(solver = 'liblinear', class_weight= 'balanced'),\n",
    "    'et' : ExtraTreesClassifier(class_weight = 'balanced', n_jobs = -1),\n",
    "    'rf' : RandomForestClassifier(class_weight = 'balanced', n_jobs = -1),\n",
    "    'gb' : GradientBoostingClassifier(),\n",
    "    'hgb': HistGradientBoostingClassifier(class_weight = 'balanced'),\n",
    "    'ab' : AdaBoostClassifier(),\n",
    "    'svc': SVC(class_weight = 'balanced'),\n",
    "    'knn': KNeighborsClassifier(n_jobs = -1)\n",
    "}"
   ]
  },
  {
   "cell_type": "code",
   "execution_count": 4,
   "id": "c5786223",
   "metadata": {},
   "outputs": [],
   "source": [
    "clfs2 = {\n",
    "    \"gnb\": GaussianNB(),\n",
    "    \"lg\" : LGBMClassifier(class_weight = 'balanced'),\n",
    "    \"xg\" : XGBClassifier(n_jobs = -1),\n",
    "    \"cat\": CatBoostClassifier(),\n",
    "    'rus': RUSBoostClassifier(),\n",
    "    'eec': EasyEnsembleClassifier(n_jobs = -1),\n",
    "    'bbc': BalancedBaggingClassifier(n_jobs = -1),\n",
    "    'brf': BalancedRandomForestClassifier(n_jobs = -1)\n",
    "}"
   ]
  },
  {
   "cell_type": "code",
   "execution_count": 5,
   "id": "3d8893ac",
   "metadata": {},
   "outputs": [],
   "source": [
    "train = pd.read_csv(\"data//maintrain.csv\")\n",
    "test = pd.read_csv(\"data//maintest.csv\")"
   ]
  },
  {
   "cell_type": "code",
   "execution_count": 6,
   "id": "f5f14cc3",
   "metadata": {},
   "outputs": [],
   "source": [
    "X_test = test.drop(['HeartDiseaseorAttack'], axis = 1)\n",
    "y_test = test['HeartDiseaseorAttack']"
   ]
  },
  {
   "cell_type": "code",
   "execution_count": 7,
   "id": "96aef995",
   "metadata": {},
   "outputs": [],
   "source": [
    "X = train.drop([\"HeartDiseaseorAttack\"], axis = 1)\n",
    "y = train['HeartDiseaseorAttack']"
   ]
  },
  {
   "cell_type": "code",
   "execution_count": 8,
   "id": "1118ba58",
   "metadata": {},
   "outputs": [],
   "source": [
    "undersampler = RandomUnderSampler(sampling_strategy = 0.3)\n",
    "X_under, y_under = undersampler.fit_resample(X, y)"
   ]
  },
  {
   "cell_type": "code",
   "execution_count": 9,
   "id": "a2c85d75",
   "metadata": {},
   "outputs": [],
   "source": [
    "X_train, X_valid, y_train, y_valid = train_test_split(X_under, y_under, test_size = 0.3, random_state = 42,\n",
    "                                                      stratify = y_under)"
   ]
  },
  {
   "cell_type": "code",
   "execution_count": 10,
   "id": "0fcfb1a1",
   "metadata": {},
   "outputs": [],
   "source": [
    "scores = pd.DataFrame()"
   ]
  },
  {
   "cell_type": "code",
   "execution_count": null,
   "id": "e54b31f1",
   "metadata": {},
   "outputs": [],
   "source": [
    "%%time\n",
    "for name, clf in clfs1.items():\n",
    "    clf.fit(X_valid, y_valid)\n",
    "    pred = clf.predict(X_test)\n",
    "    f1 = f1_score(y_test, pred)\n",
    "    recall = recall_score(y_test, pred)\n",
    "    precision = precision_score(y_test, pred)\n",
    "    temp = pd.Series(data = [f1, recall, precision], index = ['f1', 'recall', 'precision'], name = name)\n",
    "    scores = pd.concat([scores, temp], axis = 1)"
   ]
  },
  {
   "cell_type": "code",
   "execution_count": null,
   "id": "937fc249",
   "metadata": {},
   "outputs": [],
   "source": [
    "%%time\n",
    "for name, clf in clfs2.items():\n",
    "    clf.fit(X_valid, y_valid)\n",
    "    pred = clf.predict(X_test)\n",
    "    f1 = f1_score(y_test, pred)\n",
    "    recall = recall_score(y_test, pred)\n",
    "    precision = precision_score(y_test, pred)\n",
    "    temp = pd.Series(data = [f1, recall, precision], index = ['f1', 'recall', 'precision'], name = name)\n",
    "    scores = pd.concat([scores, temp], axis = 1)"
   ]
  },
  {
   "cell_type": "code",
   "execution_count": 62,
   "id": "57cfbb5c",
   "metadata": {},
   "outputs": [
    {
     "data": {
      "text/html": [
       "<div>\n",
       "<style scoped>\n",
       "    .dataframe tbody tr th:only-of-type {\n",
       "        vertical-align: middle;\n",
       "    }\n",
       "\n",
       "    .dataframe tbody tr th {\n",
       "        vertical-align: top;\n",
       "    }\n",
       "\n",
       "    .dataframe thead th {\n",
       "        text-align: right;\n",
       "    }\n",
       "</style>\n",
       "<table border=\"1\" class=\"dataframe\">\n",
       "  <thead>\n",
       "    <tr style=\"text-align: right;\">\n",
       "      <th></th>\n",
       "      <th>f1</th>\n",
       "      <th>recall</th>\n",
       "      <th>precision</th>\n",
       "    </tr>\n",
       "  </thead>\n",
       "  <tbody>\n",
       "    <tr>\n",
       "      <th>dt</th>\n",
       "      <td>0.320098</td>\n",
       "      <td>0.512364</td>\n",
       "      <td>0.232755</td>\n",
       "    </tr>\n",
       "    <tr>\n",
       "      <th>log</th>\n",
       "      <td>0.404479</td>\n",
       "      <td>0.775705</td>\n",
       "      <td>0.273562</td>\n",
       "    </tr>\n",
       "    <tr>\n",
       "      <th>et</th>\n",
       "      <td>0.373857</td>\n",
       "      <td>0.532321</td>\n",
       "      <td>0.288096</td>\n",
       "    </tr>\n",
       "    <tr>\n",
       "      <th>rf</th>\n",
       "      <td>0.391606</td>\n",
       "      <td>0.526247</td>\n",
       "      <td>0.311825</td>\n",
       "    </tr>\n",
       "    <tr>\n",
       "      <th>gb</th>\n",
       "      <td>0.424884</td>\n",
       "      <td>0.557050</td>\n",
       "      <td>0.343407</td>\n",
       "    </tr>\n",
       "    <tr>\n",
       "      <th>hgb</th>\n",
       "      <td>0.404447</td>\n",
       "      <td>0.789154</td>\n",
       "      <td>0.271898</td>\n",
       "    </tr>\n",
       "    <tr>\n",
       "      <th>ab</th>\n",
       "      <td>0.418126</td>\n",
       "      <td>0.528416</td>\n",
       "      <td>0.345924</td>\n",
       "    </tr>\n",
       "    <tr>\n",
       "      <th>svc</th>\n",
       "      <td>0.388814</td>\n",
       "      <td>0.817354</td>\n",
       "      <td>0.255077</td>\n",
       "    </tr>\n",
       "    <tr>\n",
       "      <th>knn</th>\n",
       "      <td>0.337239</td>\n",
       "      <td>0.493275</td>\n",
       "      <td>0.256196</td>\n",
       "    </tr>\n",
       "    <tr>\n",
       "      <th>gnb</th>\n",
       "      <td>0.383608</td>\n",
       "      <td>0.686334</td>\n",
       "      <td>0.266196</td>\n",
       "    </tr>\n",
       "    <tr>\n",
       "      <th>lg</th>\n",
       "      <td>0.404380</td>\n",
       "      <td>0.793059</td>\n",
       "      <td>0.271378</td>\n",
       "    </tr>\n",
       "    <tr>\n",
       "      <th>xg</th>\n",
       "      <td>0.412274</td>\n",
       "      <td>0.568330</td>\n",
       "      <td>0.323457</td>\n",
       "    </tr>\n",
       "    <tr>\n",
       "      <th>cat</th>\n",
       "      <td>0.425518</td>\n",
       "      <td>0.570065</td>\n",
       "      <td>0.339447</td>\n",
       "    </tr>\n",
       "    <tr>\n",
       "      <th>rus</th>\n",
       "      <td>0.410012</td>\n",
       "      <td>0.763991</td>\n",
       "      <td>0.280191</td>\n",
       "    </tr>\n",
       "    <tr>\n",
       "      <th>eec</th>\n",
       "      <td>0.408079</td>\n",
       "      <td>0.771367</td>\n",
       "      <td>0.277422</td>\n",
       "    </tr>\n",
       "    <tr>\n",
       "      <th>bbc</th>\n",
       "      <td>0.367422</td>\n",
       "      <td>0.608677</td>\n",
       "      <td>0.263128</td>\n",
       "    </tr>\n",
       "    <tr>\n",
       "      <th>brf</th>\n",
       "      <td>0.387477</td>\n",
       "      <td>0.770499</td>\n",
       "      <td>0.258817</td>\n",
       "    </tr>\n",
       "  </tbody>\n",
       "</table>\n",
       "</div>"
      ],
      "text/plain": [
       "           f1    recall  precision\n",
       "dt   0.320098  0.512364   0.232755\n",
       "log  0.404479  0.775705   0.273562\n",
       "et   0.373857  0.532321   0.288096\n",
       "rf   0.391606  0.526247   0.311825\n",
       "gb   0.424884  0.557050   0.343407\n",
       "hgb  0.404447  0.789154   0.271898\n",
       "ab   0.418126  0.528416   0.345924\n",
       "svc  0.388814  0.817354   0.255077\n",
       "knn  0.337239  0.493275   0.256196\n",
       "gnb  0.383608  0.686334   0.266196\n",
       "lg   0.404380  0.793059   0.271378\n",
       "xg   0.412274  0.568330   0.323457\n",
       "cat  0.425518  0.570065   0.339447\n",
       "rus  0.410012  0.763991   0.280191\n",
       "eec  0.408079  0.771367   0.277422\n",
       "bbc  0.367422  0.608677   0.263128\n",
       "brf  0.387477  0.770499   0.258817"
      ]
     },
     "execution_count": 62,
     "metadata": {},
     "output_type": "execute_result"
    }
   ],
   "source": [
    "scores.T"
   ]
  },
  {
   "cell_type": "code",
   "execution_count": 12,
   "id": "7dfa455a",
   "metadata": {},
   "outputs": [
    {
     "name": "stdout",
     "output_type": "stream",
     "text": [
      "Epoch 1/50\n",
      "1910/1910 [==============================] - 5s 2ms/step - loss: 0.7459 - accuracy: 0.5902 - val_loss: 0.6031 - val_accuracy: 0.6225\n",
      "Epoch 2/50\n",
      "1910/1910 [==============================] - 7s 4ms/step - loss: 0.5964 - accuracy: 0.6344 - val_loss: 0.5752 - val_accuracy: 0.6577\n",
      "Epoch 3/50\n",
      "1910/1910 [==============================] - 4s 2ms/step - loss: 0.5788 - accuracy: 0.6594 - val_loss: 0.5490 - val_accuracy: 0.6842\n",
      "Epoch 4/50\n",
      "1910/1910 [==============================] - 7s 4ms/step - loss: 0.5744 - accuracy: 0.6622 - val_loss: 0.5286 - val_accuracy: 0.6951\n",
      "Epoch 5/50\n",
      "1910/1910 [==============================] - 4s 2ms/step - loss: 0.5694 - accuracy: 0.6695 - val_loss: 0.5431 - val_accuracy: 0.6756\n",
      "Epoch 6/50\n",
      "1910/1910 [==============================] - 5s 3ms/step - loss: 0.5672 - accuracy: 0.6751 - val_loss: 0.5352 - val_accuracy: 0.6907\n",
      "Epoch 7/50\n",
      "1910/1910 [==============================] - 3s 2ms/step - loss: 0.5640 - accuracy: 0.6772 - val_loss: 0.5461 - val_accuracy: 0.6656\n",
      "Epoch 8/50\n",
      "1910/1910 [==============================] - 4s 2ms/step - loss: 0.5622 - accuracy: 0.6784 - val_loss: 0.5178 - val_accuracy: 0.6880\n",
      "Epoch 9/50\n",
      "1910/1910 [==============================] - 5s 3ms/step - loss: 0.5611 - accuracy: 0.6809 - val_loss: 0.5566 - val_accuracy: 0.6593\n",
      "Epoch 10/50\n",
      "1910/1910 [==============================] - 3s 2ms/step - loss: 0.5590 - accuracy: 0.6858 - val_loss: 0.5491 - val_accuracy: 0.6700\n",
      "Epoch 11/50\n",
      "1910/1910 [==============================] - 6s 3ms/step - loss: 0.5587 - accuracy: 0.6835 - val_loss: 0.5266 - val_accuracy: 0.6927\n",
      "Epoch 12/50\n",
      "1910/1910 [==============================] - 3s 2ms/step - loss: 0.5591 - accuracy: 0.6851 - val_loss: 0.5242 - val_accuracy: 0.6878\n",
      "Epoch 13/50\n",
      "1910/1910 [==============================] - 5s 3ms/step - loss: 0.5586 - accuracy: 0.6833 - val_loss: 0.5438 - val_accuracy: 0.6728\n",
      "Epoch 14/50\n",
      "1910/1910 [==============================] - 6s 3ms/step - loss: 0.5572 - accuracy: 0.6792 - val_loss: 0.5514 - val_accuracy: 0.6592\n",
      "Epoch 15/50\n",
      "1910/1910 [==============================] - 4s 2ms/step - loss: 0.5556 - accuracy: 0.6806 - val_loss: 0.5389 - val_accuracy: 0.6887\n",
      "Epoch 16/50\n",
      "1910/1910 [==============================] - 6s 3ms/step - loss: 0.5568 - accuracy: 0.6830 - val_loss: 0.5251 - val_accuracy: 0.6876\n",
      "Epoch 17/50\n",
      "1910/1910 [==============================] - 3s 2ms/step - loss: 0.5575 - accuracy: 0.6858 - val_loss: 0.5286 - val_accuracy: 0.6779\n",
      "Epoch 18/50\n",
      "1910/1910 [==============================] - 5s 3ms/step - loss: 0.5536 - accuracy: 0.6839 - val_loss: 0.5446 - val_accuracy: 0.6738\n",
      "Epoch 19/50\n",
      "1910/1910 [==============================] - 4s 2ms/step - loss: 0.5551 - accuracy: 0.6792 - val_loss: 0.5442 - val_accuracy: 0.6762\n",
      "Epoch 20/50\n",
      "1910/1910 [==============================] - 3s 2ms/step - loss: 0.5542 - accuracy: 0.6796 - val_loss: 0.5258 - val_accuracy: 0.6805\n",
      "Epoch 21/50\n",
      "1910/1910 [==============================] - 4s 2ms/step - loss: 0.5530 - accuracy: 0.6823 - val_loss: 0.5156 - val_accuracy: 0.7036\n",
      "Epoch 22/50\n",
      "1910/1910 [==============================] - 6s 3ms/step - loss: 0.5540 - accuracy: 0.6850 - val_loss: 0.5208 - val_accuracy: 0.7145\n",
      "Epoch 23/50\n",
      "1910/1910 [==============================] - 3s 2ms/step - loss: 0.5540 - accuracy: 0.6882 - val_loss: 0.5108 - val_accuracy: 0.6883\n",
      "Epoch 24/50\n",
      "1910/1910 [==============================] - 4s 2ms/step - loss: 0.5543 - accuracy: 0.6816 - val_loss: 0.5279 - val_accuracy: 0.6946\n",
      "Epoch 25/50\n",
      "1910/1910 [==============================] - 5s 3ms/step - loss: 0.5548 - accuracy: 0.6806 - val_loss: 0.5152 - val_accuracy: 0.6997\n",
      "Epoch 26/50\n",
      "1910/1910 [==============================] - 6s 3ms/step - loss: 0.5518 - accuracy: 0.6887 - val_loss: 0.5370 - val_accuracy: 0.6727\n",
      "Epoch 27/50\n",
      "1910/1910 [==============================] - 6s 3ms/step - loss: 0.5525 - accuracy: 0.6865 - val_loss: 0.5471 - val_accuracy: 0.6815\n",
      "Epoch 28/50\n",
      "1910/1910 [==============================] - 6s 3ms/step - loss: 0.5523 - accuracy: 0.6837 - val_loss: 0.5536 - val_accuracy: 0.6687\n",
      "Epoch 29/50\n",
      "1910/1910 [==============================] - 4s 2ms/step - loss: 0.5515 - accuracy: 0.6880 - val_loss: 0.5229 - val_accuracy: 0.6959\n",
      "Epoch 30/50\n",
      "1910/1910 [==============================] - 3s 2ms/step - loss: 0.5531 - accuracy: 0.6867 - val_loss: 0.5249 - val_accuracy: 0.6905\n",
      "Epoch 31/50\n",
      "1910/1910 [==============================] - 5s 3ms/step - loss: 0.5526 - accuracy: 0.6838 - val_loss: 0.5328 - val_accuracy: 0.6941\n",
      "Epoch 32/50\n",
      "1910/1910 [==============================] - 3s 2ms/step - loss: 0.5498 - accuracy: 0.6895 - val_loss: 0.5336 - val_accuracy: 0.6870\n",
      "Epoch 33/50\n",
      "1910/1910 [==============================] - 4s 2ms/step - loss: 0.5493 - accuracy: 0.6879 - val_loss: 0.5150 - val_accuracy: 0.6862\n",
      "Epoch 34/50\n",
      "1910/1910 [==============================] - 5s 3ms/step - loss: 0.5496 - accuracy: 0.6804 - val_loss: 0.5702 - val_accuracy: 0.6445\n",
      "Epoch 35/50\n",
      "1910/1910 [==============================] - 4s 2ms/step - loss: 0.5490 - accuracy: 0.6867 - val_loss: 0.5245 - val_accuracy: 0.6870\n",
      "Epoch 36/50\n",
      "1910/1910 [==============================] - 5s 3ms/step - loss: 0.5513 - accuracy: 0.6837 - val_loss: 0.5386 - val_accuracy: 0.7033\n",
      "Epoch 37/50\n",
      "1910/1910 [==============================] - 5s 3ms/step - loss: 0.5499 - accuracy: 0.6875 - val_loss: 0.5189 - val_accuracy: 0.6978\n",
      "Epoch 38/50\n",
      "1910/1910 [==============================] - 5s 2ms/step - loss: 0.5489 - accuracy: 0.6901 - val_loss: 0.5127 - val_accuracy: 0.6974\n",
      "Epoch 39/50\n",
      "1910/1910 [==============================] - 5s 3ms/step - loss: 0.5485 - accuracy: 0.6909 - val_loss: 0.5111 - val_accuracy: 0.7187\n",
      "Epoch 40/50\n",
      "1910/1910 [==============================] - 5s 3ms/step - loss: 0.5494 - accuracy: 0.6861 - val_loss: 0.5360 - val_accuracy: 0.6790\n",
      "Epoch 41/50\n",
      "1910/1910 [==============================] - 6s 3ms/step - loss: 0.5503 - accuracy: 0.6901 - val_loss: 0.5335 - val_accuracy: 0.6816\n",
      "Epoch 42/50\n",
      "1910/1910 [==============================] - 6s 3ms/step - loss: 0.5485 - accuracy: 0.6906 - val_loss: 0.5253 - val_accuracy: 0.6823\n",
      "Epoch 43/50\n",
      "1910/1910 [==============================] - 4s 2ms/step - loss: 0.5475 - accuracy: 0.6867 - val_loss: 0.4888 - val_accuracy: 0.7210\n",
      "Epoch 44/50\n",
      "1910/1910 [==============================] - 6s 3ms/step - loss: 0.5467 - accuracy: 0.6880 - val_loss: 0.4933 - val_accuracy: 0.7211\n",
      "Epoch 45/50\n",
      "1910/1910 [==============================] - 6s 3ms/step - loss: 0.5482 - accuracy: 0.6911 - val_loss: 0.5055 - val_accuracy: 0.7335\n",
      "Epoch 46/50\n",
      "1910/1910 [==============================] - 5s 3ms/step - loss: 0.5489 - accuracy: 0.6901 - val_loss: 0.5239 - val_accuracy: 0.6967\n",
      "Epoch 47/50\n",
      "1910/1910 [==============================] - 4s 2ms/step - loss: 0.5484 - accuracy: 0.6864 - val_loss: 0.5269 - val_accuracy: 0.6931\n",
      "Epoch 48/50\n",
      "1910/1910 [==============================] - 6s 3ms/step - loss: 0.5489 - accuracy: 0.6891 - val_loss: 0.5301 - val_accuracy: 0.6986\n",
      "Epoch 49/50\n",
      "1910/1910 [==============================] - 3s 2ms/step - loss: 0.5472 - accuracy: 0.6890 - val_loss: 0.5165 - val_accuracy: 0.7051\n",
      "Epoch 50/50\n",
      "1910/1910 [==============================] - 4s 2ms/step - loss: 0.5481 - accuracy: 0.6876 - val_loss: 0.5108 - val_accuracy: 0.7206\n"
     ]
    },
    {
     "data": {
      "text/plain": [
       "<keras.callbacks.History at 0x2d096f696a0>"
      ]
     },
     "execution_count": 12,
     "metadata": {},
     "output_type": "execute_result"
    }
   ],
   "source": [
    "import tensorflow as tf\n",
    "from tensorflow.keras.models import Sequential\n",
    "from tensorflow.keras.layers import Dense, Dropout\n",
    "from sklearn.utils.class_weight import compute_class_weight\n",
    "\n",
    "# Assuming X_train, y_train are your training data and labels\n",
    "\n",
    "# Calculate class weights\n",
    "class_weights = compute_class_weight('balanced', classes=[0, 1], y=y_train)\n",
    "class_weight_dict = {0: class_weights[0], 1: class_weights[1]}\n",
    "\n",
    "# Define a simple neural network architecture\n",
    "model = Sequential()\n",
    "model.add(Dense(64, input_dim=X_train.shape[1], activation='relu'))\n",
    "model.add(Dropout(0.5))\n",
    "model.add(Dense(32, activation='relu'))\n",
    "model.add(Dropout(0.5))\n",
    "model.add(Dense(1, activation='sigmoid'))\n",
    "\n",
    "# Compile the model with class weights\n",
    "model.compile(optimizer='adam', loss='binary_crossentropy', metrics=['accuracy'])\n",
    "\n",
    "# Train the model with class weights\n",
    "model.fit(X_train, y_train, epochs=50, class_weight=class_weight_dict, validation_data=(X_valid, y_valid))"
   ]
  },
  {
   "cell_type": "code",
   "execution_count": 13,
   "id": "8616a5a0",
   "metadata": {},
   "outputs": [
    {
     "name": "stdout",
     "output_type": "stream",
     "text": [
      "569/569 [==============================] - 1s 930us/step\n"
     ]
    }
   ],
   "source": [
    "pred = model.predict(X_test)"
   ]
  },
  {
   "cell_type": "code",
   "execution_count": 14,
   "id": "8599eeae",
   "metadata": {},
   "outputs": [],
   "source": [
    "# Let's say you choose a threshold of 0.5 (you can adjust this based on your analysis)\n",
    "threshold = 0.5\n",
    "\n",
    "# Convert raw scores to binary predictions based on the chosen threshold\n",
    "binary_predictions = (pred >= threshold).astype(int)"
   ]
  },
  {
   "cell_type": "code",
   "execution_count": 15,
   "id": "05da3395",
   "metadata": {},
   "outputs": [],
   "source": [
    "f1 = f1_score(y_test, binary_predictions)\n",
    "recall = recall_score(y_test, binary_predictions)\n",
    "precision = precision_score(y_test, binary_predictions)\n",
    "temp = pd.Series(data = [f1, recall, precision], index = ['f1', 'recall', 'precision'], name = \"hello\")"
   ]
  },
  {
   "cell_type": "code",
   "execution_count": 16,
   "id": "90d5d133",
   "metadata": {},
   "outputs": [
    {
     "data": {
      "text/plain": [
       "f1           0.408060\n",
       "recall       0.773102\n",
       "precision    0.277182\n",
       "Name: hello, dtype: float64"
      ]
     },
     "execution_count": 16,
     "metadata": {},
     "output_type": "execute_result"
    }
   ],
   "source": [
    "temp"
   ]
  },
  {
   "cell_type": "code",
   "execution_count": null,
   "id": "c30dcc1f",
   "metadata": {},
   "outputs": [],
   "source": []
  }
 ],
 "metadata": {
  "kernelspec": {
   "display_name": "Python 3 (ipykernel)",
   "language": "python",
   "name": "python3"
  },
  "language_info": {
   "codemirror_mode": {
    "name": "ipython",
    "version": 3
   },
   "file_extension": ".py",
   "mimetype": "text/x-python",
   "name": "python",
   "nbconvert_exporter": "python",
   "pygments_lexer": "ipython3",
   "version": "3.9.18"
  }
 },
 "nbformat": 4,
 "nbformat_minor": 5
}
